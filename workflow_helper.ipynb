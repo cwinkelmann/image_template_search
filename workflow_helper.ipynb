{
 "cells": [
  {
   "cell_type": "code",
   "id": "initial_id",
   "metadata": {
    "collapsed": true,
    "ExecuteTime": {
     "end_time": "2024-11-22T13:04:37.834754Z",
     "start_time": "2024-11-22T13:04:37.833332Z"
    }
   },
   "source": [
    ""
   ],
   "outputs": [],
   "execution_count": null
  },
  {
   "metadata": {
    "ExecuteTime": {
     "end_time": "2024-11-22T13:04:37.851464Z",
     "start_time": "2024-11-22T13:04:37.846046Z"
    }
   },
   "cell_type": "code",
   "source": "",
   "id": "71fff4ffaf31e626",
   "outputs": [],
   "execution_count": null
  },
  {
   "metadata": {
    "ExecuteTime": {
     "end_time": "2024-11-22T13:04:38.030721Z",
     "start_time": "2024-11-22T13:04:37.862018Z"
    }
   },
   "cell_type": "code",
   "source": [
    "from pathlib import Path\n",
    "import rasterio\n",
    "from rasterio.enums import Resampling\n",
    "from rasterio.shutil import copy\n",
    "from concurrent.futures import ThreadPoolExecutor\n"
   ],
   "id": "c325dddbee1d1ca",
   "outputs": [],
   "execution_count": 2
  },
  {
   "metadata": {
    "ExecuteTime": {
     "end_time": "2024-11-22T13:04:38.040631Z",
     "start_time": "2024-11-22T13:04:38.037506Z"
    }
   },
   "cell_type": "code",
   "source": [
    "\n",
    "\n",
    "def convert_to_cog(input_file, output_file):\n",
    "    # COG creation options\n",
    "    cog_options = {\n",
    "        \"BLOCKXSIZE\": 2048,   # Tile width\n",
    "        \"BLOCKYSIZE\": 2048,   # Tile height\n",
    "        \"TILED\": True,       # Enable tiling\n",
    "        \"COMPRESS\": \"LZW\",   # Compression type (LZW is common for COGs)\n",
    "        \"COPY_SRC_OVERVIEWS\": True,  # Copy overviews if they exist\n",
    "    }\n",
    "    \n",
    "    # Open the input file\n",
    "    with rasterio.open(input_file) as src:\n",
    "        # Copy the input file to a COG with updated options\n",
    "        copy(\n",
    "            src,\n",
    "            output_file,\n",
    "            driver=\"COG\",\n",
    "            **cog_options\n",
    "        )\n",
    "    \n",
    "    print(f\"COG saved to {output_file}\")\n",
    "    \n",
    "    \n",
    "def batch_convert_to_cog(input_files, output_dir, max_workers=4):\n",
    "    \"\"\"Parallelize the conversion of multiple files to COG.\"\"\"\n",
    "    output_dir = Path(output_dir)\n",
    "    output_dir.mkdir(parents=True, exist_ok=True)\n",
    "\n",
    "    with ThreadPoolExecutor(max_workers=max_workers) as executor:\n",
    "        futures = []\n",
    "        for input_file in input_files:\n",
    "            output_file = output_dir / f\"{Path(input_file).stem}_cog.tif\"\n",
    "            futures.append(executor.submit(convert_to_cog, input_file, output_file))\n",
    "\n",
    "        # Wait for all tasks to complete\n",
    "        for future in futures:\n",
    "            future.result()\n",
    "\n",
    "# Example usag\n",
    "\n"
   ],
   "id": "5407bfb5e8dea9b5",
   "outputs": [],
   "execution_count": 3
  },
  {
   "metadata": {
    "ExecuteTime": {
     "end_time": "2024-11-22T13:04:38.046153Z",
     "start_time": "2024-11-22T13:04:38.044468Z"
    }
   },
   "cell_type": "code",
   "source": [
    "\n",
    "# Input and output file paths\n",
    "input_file_1 = Path(\n",
    "    \"/Users/christian/Library/CloudStorage/GoogleDrive-christian.winkelmann@gmail.com/My Drive/Datasets/IguanasFromAbove/Orthomosaics for quality analysis/Snt_STJB01_10012023/Snt_STJB01to05_10012023_orthomosaic_DDeploy.tif\")\n",
    "\n",
    "\n",
    "\n",
    "# convert_to_cog(input_file, output_file)"
   ],
   "id": "875b33ed5a239b57",
   "outputs": [],
   "execution_count": 4
  },
  {
   "metadata": {
    "ExecuteTime": {
     "end_time": "2024-11-22T13:04:38.051434Z",
     "start_time": "2024-11-22T13:04:38.049618Z"
    }
   },
   "cell_type": "code",
   "source": [
    "input_file_2 = Path(\"/Users/christian/Library/CloudStorage/GoogleDrive-christian.winkelmann@gmail.com/My Drive/Datasets/IguanasFromAbove/Orthomosaics for quality analysis/Snt_STJB06_12012023/Snt_STJB01to06_12012023-1_orthomosaic_DDeploy.tif\")\n",
    "\n",
    "# convert_to_cog(input_file, output_file)"
   ],
   "id": "32e6c600d23ecfb4",
   "outputs": [],
   "execution_count": 5
  },
  {
   "metadata": {
    "ExecuteTime": {
     "end_time": "2024-11-22T13:04:38.061629Z",
     "start_time": "2024-11-22T13:04:38.056690Z"
    }
   },
   "cell_type": "code",
   "source": [
    "input_files = Path(\"/Users/christian/Library/CloudStorage/GoogleDrive-christian.winkelmann@gmail.com/.shortcut-targets-by-id/1u0tmSqWpyjE3etisjtWQ83r3cS2LEk_i/Manual Counting /Drone Deploy orthomosaics\").rglob(\"Snt_STJB*.tif\")\n",
    "input_files = list(input_files)\n",
    "output_dir = Path(\"/Users/christian/PycharmProjects/hnee/image_template_search/data/cog\")\n",
    "\n",
    "input_files"
   ],
   "id": "958248c67784c24f",
   "outputs": [
    {
     "data": {
      "text/plain": [
       "[PosixPath('/Users/christian/Library/CloudStorage/GoogleDrive-christian.winkelmann@gmail.com/.shortcut-targets-by-id/1u0tmSqWpyjE3etisjtWQ83r3cS2LEk_i/Manual Counting /Drone Deploy orthomosaics/Snt_STJBB01-02_10012023.tif'),\n",
       " PosixPath('/Users/christian/Library/CloudStorage/GoogleDrive-christian.winkelmann@gmail.com/.shortcut-targets-by-id/1u0tmSqWpyjE3etisjtWQ83r3cS2LEk_i/Manual Counting /Drone Deploy orthomosaics/Snt_STJB01to05_10012023.tif'),\n",
       " PosixPath('/Users/christian/Library/CloudStorage/GoogleDrive-christian.winkelmann@gmail.com/.shortcut-targets-by-id/1u0tmSqWpyjE3etisjtWQ83r3cS2LEk_i/Manual Counting /Drone Deploy orthomosaics/Snt_STJB01to05_10012023-1.tif'),\n",
       " PosixPath('/Users/christian/Library/CloudStorage/GoogleDrive-christian.winkelmann@gmail.com/.shortcut-targets-by-id/1u0tmSqWpyjE3etisjtWQ83r3cS2LEk_i/Manual Counting /Drone Deploy orthomosaics/Snt_STJB01to05_10012023-2.tif'),\n",
       " PosixPath('/Users/christian/Library/CloudStorage/GoogleDrive-christian.winkelmann@gmail.com/.shortcut-targets-by-id/1u0tmSqWpyjE3etisjtWQ83r3cS2LEk_i/Manual Counting /Drone Deploy orthomosaics/Snt_STJB01to06_12012023-1.tif'),\n",
       " PosixPath('/Users/christian/Library/CloudStorage/GoogleDrive-christian.winkelmann@gmail.com/.shortcut-targets-by-id/1u0tmSqWpyjE3etisjtWQ83r3cS2LEk_i/Manual Counting /Drone Deploy orthomosaics/Snt_STJB01to06_12012023-2.tif')]"
      ]
     },
     "execution_count": 6,
     "metadata": {},
     "output_type": "execute_result"
    }
   ],
   "execution_count": 6
  },
  {
   "metadata": {
    "ExecuteTime": {
     "end_time": "2024-11-22T13:04:38.073980Z",
     "start_time": "2024-11-22T13:04:38.072460Z"
    }
   },
   "cell_type": "code",
   "source": [
    "\n",
    "# batch_convert_to_cog(input_files, output_dir, max_workers=4)"
   ],
   "id": "e484eae928a01076",
   "outputs": [],
   "execution_count": 7
  },
  {
   "metadata": {
    "jupyter": {
     "is_executing": true
    },
    "ExecuteTime": {
     "start_time": "2024-11-22T13:04:38.088267Z"
    }
   },
   "cell_type": "code",
   "source": [
    "\n",
    "input_files = [\n",
    "Path('/Users/christian/Library/CloudStorage/GoogleDrive-christian.winkelmann@gmail.com/.shortcut-targets-by-id/1u0tmSqWpyjE3etisjtWQ83r3cS2LEk_i/Manual Counting /Drone Deploy orthomosaics/Snt_STJB01to05_10012023-1.tif'),\n",
    " Path('/Users/christian/Library/CloudStorage/GoogleDrive-christian.winkelmann@gmail.com/.shortcut-targets-by-id/1u0tmSqWpyjE3etisjtWQ83r3cS2LEk_i/Manual Counting /Drone Deploy orthomosaics/Snt_STJB01to05_10012023-2.tif'),\n",
    " Path('/Users/christian/Library/CloudStorage/GoogleDrive-christian.winkelmann@gmail.com/.shortcut-targets-by-id/1u0tmSqWpyjE3etisjtWQ83r3cS2LEk_i/Manual Counting /Drone Deploy orthomosaics/Snt_STJB01to06_12012023-1.tif'),\n",
    "Path('/Users/christian/Library/CloudStorage/GoogleDrive-christian.winkelmann@gmail.com/.shortcut-targets-by-id/1u0tmSqWpyjE3etisjtWQ83r3cS2LEk_i/Manual Counting /Drone Deploy orthomosaics/Snt_STJB01to06_12012023-2.tif')]\n",
    "\n",
    "batch_convert_to_cog(input_files, output_dir, max_workers=4)\n"
   ],
   "id": "675fc0a1e1258168",
   "outputs": [],
   "execution_count": null
  },
  {
   "metadata": {},
   "cell_type": "code",
   "outputs": [],
   "execution_count": null,
   "source": [
    "input_files_2 = Path('/Users/christian/Library/CloudStorage/GoogleDrive-christian.winkelmann@gmail.com/.shortcut-targets-by-id/1u0tmSqWpyjE3etisjtWQ83r3cS2LEk_i/Manual Counting /Drone Deploy orthomosaics/Snt_STJB01to05_10012023.tif')\n",
    " \n",
    "batch_convert_to_cog(input_files_2, output_dir, max_workers=4)"
   ],
   "id": "f799f476e3b1c122"
  },
  {
   "metadata": {},
   "cell_type": "code",
   "outputs": [],
   "execution_count": null,
   "source": "",
   "id": "8647935132b3cdb0"
  }
 ],
 "metadata": {
  "kernelspec": {
   "display_name": "Python 3",
   "language": "python",
   "name": "python3"
  },
  "language_info": {
   "codemirror_mode": {
    "name": "ipython",
    "version": 2
   },
   "file_extension": ".py",
   "mimetype": "text/x-python",
   "name": "python",
   "nbconvert_exporter": "python",
   "pygments_lexer": "ipython2",
   "version": "2.7.6"
  }
 },
 "nbformat": 4,
 "nbformat_minor": 5
}
