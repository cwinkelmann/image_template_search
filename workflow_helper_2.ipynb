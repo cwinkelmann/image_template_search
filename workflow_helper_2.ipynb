{
 "cells": [
  {
   "cell_type": "code",
   "id": "initial_id",
   "metadata": {
    "collapsed": true,
    "ExecuteTime": {
     "end_time": "2024-11-22T11:44:18.728087Z",
     "start_time": "2024-11-22T11:44:18.726818Z"
    }
   },
   "source": [
    ""
   ],
   "outputs": [],
   "execution_count": null
  },
  {
   "metadata": {
    "ExecuteTime": {
     "end_time": "2024-11-22T11:44:18.736328Z",
     "start_time": "2024-11-22T11:44:18.733255Z"
    }
   },
   "cell_type": "code",
   "source": "from pathlib import Path",
   "id": "5f9540756d828a56",
   "outputs": [],
   "execution_count": 1
  },
  {
   "metadata": {
    "ExecuteTime": {
     "end_time": "2024-11-22T11:44:18.827660Z",
     "start_time": "2024-11-22T11:44:18.823513Z"
    }
   },
   "cell_type": "code",
   "source": [
    "\n",
    "\n",
    "input_files = Path(\"/Users/christian/Library/CloudStorage/GoogleDrive-christian.winkelmann@gmail.com/.shortcut-targets-by-id/1u0tmSqWpyjE3etisjtWQ83r3cS2LEk_i/Manual Counting /Drone Deploy orthomosaics\").rglob(\"Snt_STJB*.tif\")\n",
    "input_files = list(input_files)\n",
    "output_dir = Path(\"/Users/christian/PycharmProjects/hnee/image_template_search/data/cog/tile\")\n",
    "\n",
    "input_files"
   ],
   "id": "b1abd170a2c029cf",
   "outputs": [
    {
     "data": {
      "text/plain": [
       "[PosixPath('/Users/christian/Library/CloudStorage/GoogleDrive-christian.winkelmann@gmail.com/.shortcut-targets-by-id/1u0tmSqWpyjE3etisjtWQ83r3cS2LEk_i/Manual Counting /Drone Deploy orthomosaics/Snt_STJBB01-02_10012023.tif'),\n",
       " PosixPath('/Users/christian/Library/CloudStorage/GoogleDrive-christian.winkelmann@gmail.com/.shortcut-targets-by-id/1u0tmSqWpyjE3etisjtWQ83r3cS2LEk_i/Manual Counting /Drone Deploy orthomosaics/Snt_STJB01to05_10012023.tif'),\n",
       " PosixPath('/Users/christian/Library/CloudStorage/GoogleDrive-christian.winkelmann@gmail.com/.shortcut-targets-by-id/1u0tmSqWpyjE3etisjtWQ83r3cS2LEk_i/Manual Counting /Drone Deploy orthomosaics/Snt_STJB01to05_10012023-1.tif'),\n",
       " PosixPath('/Users/christian/Library/CloudStorage/GoogleDrive-christian.winkelmann@gmail.com/.shortcut-targets-by-id/1u0tmSqWpyjE3etisjtWQ83r3cS2LEk_i/Manual Counting /Drone Deploy orthomosaics/Snt_STJB01to05_10012023-2.tif'),\n",
       " PosixPath('/Users/christian/Library/CloudStorage/GoogleDrive-christian.winkelmann@gmail.com/.shortcut-targets-by-id/1u0tmSqWpyjE3etisjtWQ83r3cS2LEk_i/Manual Counting /Drone Deploy orthomosaics/Snt_STJB01to06_12012023-1.tif'),\n",
       " PosixPath('/Users/christian/Library/CloudStorage/GoogleDrive-christian.winkelmann@gmail.com/.shortcut-targets-by-id/1u0tmSqWpyjE3etisjtWQ83r3cS2LEk_i/Manual Counting /Drone Deploy orthomosaics/Snt_STJB01to06_12012023-2.tif')]"
      ]
     },
     "execution_count": 2,
     "metadata": {},
     "output_type": "execute_result"
    }
   ],
   "execution_count": 2
  },
  {
   "metadata": {
    "ExecuteTime": {
     "end_time": "2024-11-22T11:44:19.006749Z",
     "start_time": "2024-11-22T11:44:18.833287Z"
    }
   },
   "cell_type": "code",
   "source": [
    "from loguru import logger\n",
    "import rasterio\n",
    "from rasterio.windows import Window\n",
    "from pathlib import Path\n",
    "from rasterio.enums import Resampling\n",
    "\n",
    "def create_tiles(input_file, output_dir, tile_size=512):\n",
    "    \"\"\"Split a large raster into smaller physical tiles.\"\"\"\n",
    "    output_dir = Path(output_dir)\n",
    "    output_dir.mkdir(parents=True, exist_ok=True)\n",
    "    \n",
    "    cog_options = {\n",
    "        \"BLOCKXSIZE\": 1024,  # Internal tile size for COGs\n",
    "        \"BLOCKYSIZE\": 1024,\n",
    "        \"TILED\": True,\n",
    "        \"COMPRESS\": \"LZW\",  # Compression for COGs\n",
    "    }\n",
    "    \n",
    "    with rasterio.open(input_file) as src:\n",
    "        width, height = src.width, src.height\n",
    "        for i in range(0, width, tile_size):\n",
    "            for j in range(0, height, tile_size):\n",
    "                # Define window for the tile\n",
    "                window = Window(i, j, tile_size, tile_size)\n",
    "                transform = src.window_transform(window)\n",
    "                \n",
    "                # Read data and write to a new file\n",
    "                tile_file = output_dir / f\"{input_file.stem}_tile_{i}_{j}.tif\"\n",
    "                meta = src.meta.copy()\n",
    "                meta.update({\n",
    "                    \"driver\": \"COG\",  # Save directly as COG\n",
    "                    \"height\": min(tile_size, height - j),\n",
    "                    \"width\": min(tile_size, width - i),\n",
    "                    \"transform\": transform,\n",
    "                    **cog_options,  # Add COG-specific options\n",
    "                })\n",
    "\n",
    "                with rasterio.open(tile_file, \"w\", **meta) as dst:\n",
    "                    logger.info(f\"Writing {tile_file}\")\n",
    "                    dst.write(src.read(window=window))\n",
    "                    \n",
    "                    logger.info(f\"Adding overviews to {tile_file}\")\n",
    "                    # Add overviews\n",
    "                    overviews = [2, 4, 8]  # Define overview levels\n",
    "                    dst.build_overviews(overviews, Resampling.average)\n",
    "                    dst.update_tags(ns=\"rio_overview\", resampling=\"average\")\n",
    "                logger.info(f\"Saved {tile_file}\")\n",
    "\n",
    "# Example Usage\n"
   ],
   "id": "bcf24d3b9b97cc0c",
   "outputs": [],
   "execution_count": 3
  },
  {
   "metadata": {
    "jupyter": {
     "is_executing": true
    },
    "ExecuteTime": {
     "start_time": "2024-11-22T11:53:10.484884Z"
    }
   },
   "cell_type": "code",
   "source": [
    "for input_file in input_files:\n",
    "    create_tiles(input_file, output_dir / input_file.stem, tile_size=10240)\n",
    "    \n",
    "    "
   ],
   "id": "76a8f17b577b1ef2",
   "outputs": [
    {
     "name": "stderr",
     "output_type": "stream",
     "text": [
      "\u001B[32m2024-11-22 12:53:10.491\u001B[0m | \u001B[1mINFO    \u001B[0m | \u001B[36m__main__\u001B[0m:\u001B[36mcreate_tiles\u001B[0m:\u001B[36m39\u001B[0m - \u001B[1mWriting /Users/christian/PycharmProjects/hnee/image_template_search/data/cog/tile/Snt_STJBB01-02_10012023/Snt_STJBB01-02_10012023_tile_0_0.tif\u001B[0m\n",
      "\u001B[32m2024-11-22 12:53:11.353\u001B[0m | \u001B[1mINFO    \u001B[0m | \u001B[36m__main__\u001B[0m:\u001B[36mcreate_tiles\u001B[0m:\u001B[36m42\u001B[0m - \u001B[1mAdding overviews to /Users/christian/PycharmProjects/hnee/image_template_search/data/cog/tile/Snt_STJBB01-02_10012023/Snt_STJBB01-02_10012023_tile_0_0.tif\u001B[0m\n",
      "\u001B[32m2024-11-22 12:53:16.390\u001B[0m | \u001B[1mINFO    \u001B[0m | \u001B[36m__main__\u001B[0m:\u001B[36mcreate_tiles\u001B[0m:\u001B[36m47\u001B[0m - \u001B[1mSaved /Users/christian/PycharmProjects/hnee/image_template_search/data/cog/tile/Snt_STJBB01-02_10012023/Snt_STJBB01-02_10012023_tile_0_0.tif\u001B[0m\n",
      "\u001B[32m2024-11-22 12:53:16.391\u001B[0m | \u001B[1mINFO    \u001B[0m | \u001B[36m__main__\u001B[0m:\u001B[36mcreate_tiles\u001B[0m:\u001B[36m39\u001B[0m - \u001B[1mWriting /Users/christian/PycharmProjects/hnee/image_template_search/data/cog/tile/Snt_STJBB01-02_10012023/Snt_STJBB01-02_10012023_tile_0_10240.tif\u001B[0m\n",
      "\u001B[32m2024-11-22 12:53:17.163\u001B[0m | \u001B[1mINFO    \u001B[0m | \u001B[36m__main__\u001B[0m:\u001B[36mcreate_tiles\u001B[0m:\u001B[36m42\u001B[0m - \u001B[1mAdding overviews to /Users/christian/PycharmProjects/hnee/image_template_search/data/cog/tile/Snt_STJBB01-02_10012023/Snt_STJBB01-02_10012023_tile_0_10240.tif\u001B[0m\n"
     ]
    }
   ],
   "execution_count": null
  },
  {
   "metadata": {
    "ExecuteTime": {
     "end_time": "2024-11-22T11:45:06.690026Z",
     "start_time": "2024-11-22T11:45:06.688834Z"
    }
   },
   "cell_type": "code",
   "source": "",
   "id": "bf31a703fafacafa",
   "outputs": [],
   "execution_count": null
  }
 ],
 "metadata": {
  "kernelspec": {
   "display_name": "Python 3",
   "language": "python",
   "name": "python3"
  },
  "language_info": {
   "codemirror_mode": {
    "name": "ipython",
    "version": 2
   },
   "file_extension": ".py",
   "mimetype": "text/x-python",
   "name": "python",
   "nbconvert_exporter": "python",
   "pygments_lexer": "ipython2",
   "version": "2.7.6"
  }
 },
 "nbformat": 4,
 "nbformat_minor": 5
}
