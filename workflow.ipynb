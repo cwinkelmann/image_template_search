{
 "cells": [
  {
   "cell_type": "markdown",
   "source": [
    "## Demo of the workflow\n",
    "- create tiles of images\n",
    "- find tiles in other notebooks\n",
    "- build a stack of tiles\n",
    "- assess image quality in stack"
   ],
   "metadata": {
    "collapsed": false
   },
   "id": "bc9a2f168ed38d63"
  },
  {
   "cell_type": "code",
   "outputs": [],
   "source": [
    "import os\n",
    "\n",
    "import pandas as pd\n",
    "%load_ext autoreload\n",
    "%autoreload 2"
   ],
   "metadata": {
    "collapsed": false
   },
   "id": "3d957257f761bbb2",
   "execution_count": null
  },
  {
   "cell_type": "code",
   "outputs": [],
   "source": [
    "import numpy as np\n",
    "from matplotlib import pyplot as plt\n",
    "from PIL import Image\n",
    "from pathlib import Path\n",
    "\n",
    "full_image = \"./tests/data/DJI_0018.JPG\"\n",
    "\n",
    "image = Image.open(full_image)\n",
    "\n",
    "fig, ax = plt.subplots(1, 1, figsize=(10, 10))\n",
    "\n",
    "imr = np.array(image, dtype=np.uint8)\n",
    "ax.imshow(imr)\n",
    "ax.set_title(\"original image\")"
   ],
   "metadata": {
    "collapsed": false
   },
   "id": "53ba030a40dc23f5",
   "execution_count": null
  },
  {
   "cell_type": "code",
   "outputs": [],
   "source": [
    "### Create Tiles"
   ],
   "metadata": {
    "collapsed": false
   },
   "id": "3d1be40a93423400",
   "execution_count": null
  },
  {
   "cell_type": "code",
   "outputs": [],
   "source": [
    "from image_template_search.image_rasterization import create_regular_raster_grid\n",
    "\n",
    "crop_height = crop_width = 1024\n",
    "grid, _ = create_regular_raster_grid(max_x=image.size[0], max_y=image.size[1],\n",
    "                                                     slice_height=crop_height, slice_width=crop_width)"
   ],
   "metadata": {
    "collapsed": false
   },
   "id": "fc10d00364fb587b",
   "execution_count": null
  },
  {
   "cell_type": "code",
   "outputs": [],
   "source": [
    "\n",
    "from image_template_search.image_rasterization import crop_polygons\n",
    "\n",
    "crops = crop_polygons(image, grid)\n",
    "\n",
    "for i, crop in enumerate(crops):\n",
    "    crop.save(f\"tests/output/crops/crop_{Path(full_image).stem}_{i}.jpg\")\n",
    "    print(f\"saved crop_{i}.jpg\")"
   ],
   "metadata": {
    "collapsed": false
   },
   "id": "8906186235412d1a",
   "execution_count": null
  },
  {
   "cell_type": "markdown",
   "source": [
    "### Looking for the patches"
   ],
   "metadata": {
    "collapsed": false
   },
   "id": "e1ee0cc2f41f591e"
  },
  {
   "cell_type": "code",
   "outputs": [],
   "source": [
    "from image_template_search.image_similarity import find_patch\n",
    "\n",
    "## Find a crop within other images\n",
    "\n",
    "template_name = \"crop_DJI_0018_7.jpg\"\n",
    "template_path = Path(f\"tests/output/crops/{template_name}\")\n",
    "large_image_path = Path(full_image)\n",
    "\n",
    "crop = find_patch(template_path, large_image_path, output_path=\"tests/output\")\n"
   ],
   "metadata": {
    "collapsed": false
   },
   "id": "a11dcad25d856fb9",
   "execution_count": null
  },
  {
   "cell_type": "markdown",
   "source": [
    "#### For the same patch by tiling the large image\n",
    "Can be useful for large images like orthomosaics"
   ],
   "metadata": {
    "collapsed": false
   },
   "id": "4603f243b29baed9"
  },
  {
   "cell_type": "markdown",
   "source": [],
   "metadata": {
    "collapsed": false
   },
   "id": "7e2f9dac7ef1d404"
  },
  {
   "cell_type": "code",
   "outputs": [],
   "source": [
    "import tempfile\n",
    "from image_template_search.image_similarity import find_patch_tiled\n",
    "\n",
    "with tempfile.TemporaryDirectory() as cache_dir:\n",
    "    print('created temporary directory', cache_dir)\n",
    "\n",
    "    cache_dir = Path(cache_dir)\n",
    "\n",
    "    crop = find_patch_tiled(template_path, large_image_path,\n",
    "                            output_path=Path(\"tests/output\"),\n",
    "                            tile_size_x=1200,\n",
    "                            tile_size_y=1200, \n",
    "                            cache_path=None)\n",
    "\n",
    "crop"
   ],
   "metadata": {
    "collapsed": false
   },
   "id": "2c4b5dfa04738aa7",
   "execution_count": null
  },
  {
   "cell_type": "code",
   "outputs": [],
   "source": [],
   "metadata": {
    "collapsed": false
   },
   "id": "d624a3fbb49e4326",
   "execution_count": null
  }
 ],
 "metadata": {
  "kernelspec": {
   "display_name": "Python 3",
   "language": "python",
   "name": "python3"
  },
  "language_info": {
   "codemirror_mode": {
    "name": "ipython",
    "version": 2
   },
   "file_extension": ".py",
   "mimetype": "text/x-python",
   "name": "python",
   "nbconvert_exporter": "python",
   "pygments_lexer": "ipython2",
   "version": "2.7.6"
  }
 },
 "nbformat": 4,
 "nbformat_minor": 5
}
