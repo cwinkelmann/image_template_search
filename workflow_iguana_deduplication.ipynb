{
 "cells": [
  {
   "metadata": {},
   "cell_type": "markdown",
   "source": "# Workflow to deduplicate Detections\n",
   "id": "a59d8cace9b9caa"
  },
  {
   "metadata": {},
   "cell_type": "markdown",
   "source": "",
   "id": "d25997588008f641"
  }
 ],
 "metadata": {
  "kernelspec": {
   "display_name": "Python 3",
   "language": "python",
   "name": "python3"
  },
  "language_info": {
   "codemirror_mode": {
    "name": "ipython",
    "version": 2
   },
   "file_extension": ".py",
   "mimetype": "text/x-python",
   "name": "python",
   "nbconvert_exporter": "python",
   "pygments_lexer": "ipython2",
   "version": "2.7.6"
  }
 },
 "nbformat": 4,
 "nbformat_minor": 5
}
